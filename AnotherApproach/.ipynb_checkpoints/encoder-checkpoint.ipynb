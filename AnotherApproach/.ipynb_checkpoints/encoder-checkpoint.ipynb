{
 "metadata": {
  "name": "",
  "signature": "sha256:23fbb033b412f575037027f86410f4f9c889ee45274dd7afe29410bf665ad4c8"
 },
 "nbformat": 3,
 "nbformat_minor": 0,
 "worksheets": [
  {
   "cells": [
    {
     "cell_type": "code",
     "collapsed": false,
     "input": [
      "import numpy as np\n",
      "import pandas as pd\n",
      "import random"
     ],
     "language": "python",
     "metadata": {},
     "outputs": [],
     "prompt_number": 1
    },
    {
     "cell_type": "code",
     "collapsed": false,
     "input": [
      "from keras.models import Sequential\n",
      "from keras.layers import Bidirectional\n",
      "from keras.layers import LSTM\n",
      "from keras.layers import TimeDistributed\n",
      "from keras.layers import Dense"
     ],
     "language": "python",
     "metadata": {},
     "outputs": [
      {
       "output_type": "stream",
       "stream": "stderr",
       "text": [
        "Using Theano backend.\n"
       ]
      }
     ],
     "prompt_number": 2
    },
    {
     "cell_type": "code",
     "collapsed": false,
     "input": [
      "filePath=\"./Preprocessing/\""
     ],
     "language": "python",
     "metadata": {},
     "outputs": [],
     "prompt_number": 3
    },
    {
     "cell_type": "code",
     "collapsed": false,
     "input": [
      "vectors=np.loadtxt(open(\"./Preprocessing/GridJellySingleSent.csv\", \"rb\"), delimiter=\",\",skiprows=1)"
     ],
     "language": "python",
     "metadata": {},
     "outputs": [],
     "prompt_number": 4
    },
    {
     "cell_type": "code",
     "collapsed": false,
     "input": [
      "vectors.shape"
     ],
     "language": "python",
     "metadata": {},
     "outputs": [
      {
       "metadata": {},
       "output_type": "pyout",
       "prompt_number": 5,
       "text": [
        "(2167, 100)"
       ]
      }
     ],
     "prompt_number": 5
    },
    {
     "cell_type": "code",
     "collapsed": false,
     "input": [
      "vectors[0]"
     ],
     "language": "python",
     "metadata": {},
     "outputs": [
      {
       "metadata": {},
       "output_type": "pyout",
       "prompt_number": 6,
       "text": [
        "array([-0.025891,  0.006853, -0.024728, -0.021896, -0.080199,  0.042456,\n",
        "       -0.04098 ,  0.027224,  0.061295, -0.032973, -0.044415,  0.034786,\n",
        "        0.000653, -0.024508, -0.048494, -0.036198, -0.000209,  0.05339 ,\n",
        "       -0.031349, -0.04209 , -0.023615,  0.021584, -0.032648,  0.0345  ,\n",
        "       -0.029051,  0.018181,  0.033799, -0.03124 , -0.02965 , -0.005756,\n",
        "        0.005189, -0.026963,  0.00801 ,  0.001273, -0.040624,  0.049425,\n",
        "       -0.041795, -0.027885,  0.046001,  0.040696,  0.035071, -0.000532,\n",
        "       -0.012055, -0.028052,  0.028101,  0.019061,  0.011074, -0.015126,\n",
        "        0.025317,  0.039281,  0.035737,  0.007522, -0.005975, -0.057283,\n",
        "       -0.084057, -0.005519,  0.000408,  0.020393,  0.01702 , -0.017419,\n",
        "        0.075663,  0.016989, -0.033915,  0.016558,  0.01192 ,  0.018219,\n",
        "        0.016565,  0.061656,  0.027538,  0.053413, -0.042223,  0.011015,\n",
        "        0.037003,  0.047481, -0.008963,  0.045531, -0.021996,  0.00387 ,\n",
        "        0.060825,  0.039045, -0.031807, -0.017748, -0.009646, -0.013598,\n",
        "        0.005659, -0.005862,  0.00406 ,  0.024401, -0.019964,  0.038413,\n",
        "        0.006804, -0.065063,  0.041766,  0.006521,  0.026328,  0.0248  ,\n",
        "        0.059608, -0.025894, -0.034002,  0.024786])"
       ]
      }
     ],
     "prompt_number": 6
    },
    {
     "cell_type": "code",
     "collapsed": false,
     "input": [
      "file_len=10\n",
      "input_vectors=[]"
     ],
     "language": "python",
     "metadata": {},
     "outputs": [],
     "prompt_number": 7
    },
    {
     "cell_type": "code",
     "collapsed": false,
     "input": [
      "file_len"
     ],
     "language": "python",
     "metadata": {},
     "outputs": [
      {
       "metadata": {},
       "output_type": "pyout",
       "prompt_number": 8,
       "text": [
        "10"
       ]
      }
     ],
     "prompt_number": 8
    },
    {
     "cell_type": "code",
     "collapsed": false,
     "input": [
      "for file_idx in range(file_len):\n",
      "    v = vectors[file_idx].reshape(1,100)\n",
      "    input_vectors.append(v)"
     ],
     "language": "python",
     "metadata": {},
     "outputs": [],
     "prompt_number": 9
    },
    {
     "cell_type": "code",
     "collapsed": false,
     "input": [
      "input_vectors=np.array(input_vectors)"
     ],
     "language": "python",
     "metadata": {},
     "outputs": [],
     "prompt_number": 10
    },
    {
     "cell_type": "code",
     "collapsed": false,
     "input": [
      "input_vectors[0]"
     ],
     "language": "python",
     "metadata": {},
     "outputs": [
      {
       "metadata": {},
       "output_type": "pyout",
       "prompt_number": 11,
       "text": [
        "array([[-0.025891,  0.006853, -0.024728, -0.021896, -0.080199,  0.042456,\n",
        "        -0.04098 ,  0.027224,  0.061295, -0.032973, -0.044415,  0.034786,\n",
        "         0.000653, -0.024508, -0.048494, -0.036198, -0.000209,  0.05339 ,\n",
        "        -0.031349, -0.04209 , -0.023615,  0.021584, -0.032648,  0.0345  ,\n",
        "        -0.029051,  0.018181,  0.033799, -0.03124 , -0.02965 , -0.005756,\n",
        "         0.005189, -0.026963,  0.00801 ,  0.001273, -0.040624,  0.049425,\n",
        "        -0.041795, -0.027885,  0.046001,  0.040696,  0.035071, -0.000532,\n",
        "        -0.012055, -0.028052,  0.028101,  0.019061,  0.011074, -0.015126,\n",
        "         0.025317,  0.039281,  0.035737,  0.007522, -0.005975, -0.057283,\n",
        "        -0.084057, -0.005519,  0.000408,  0.020393,  0.01702 , -0.017419,\n",
        "         0.075663,  0.016989, -0.033915,  0.016558,  0.01192 ,  0.018219,\n",
        "         0.016565,  0.061656,  0.027538,  0.053413, -0.042223,  0.011015,\n",
        "         0.037003,  0.047481, -0.008963,  0.045531, -0.021996,  0.00387 ,\n",
        "         0.060825,  0.039045, -0.031807, -0.017748, -0.009646, -0.013598,\n",
        "         0.005659, -0.005862,  0.00406 ,  0.024401, -0.019964,  0.038413,\n",
        "         0.006804, -0.065063,  0.041766,  0.006521,  0.026328,  0.0248  ,\n",
        "         0.059608, -0.025894, -0.034002,  0.024786]])"
       ]
      }
     ],
     "prompt_number": 11
    },
    {
     "cell_type": "code",
     "collapsed": false,
     "input": [
      "y=[]\n",
      "for i in range(file_len):\n",
      "    p=[]\n",
      "    for j in range(100):\n",
      "        rand=random.random()\n",
      "        p.append(rand)\n",
      "    p=np.array(p)\n",
      "    y.append(p.reshape(1,100))    \n",
      "y=np.array(y)      "
     ],
     "language": "python",
     "metadata": {},
     "outputs": [],
     "prompt_number": 21
    },
    {
     "cell_type": "code",
     "collapsed": false,
     "input": [
      "model=Sequential()"
     ],
     "language": "python",
     "metadata": {},
     "outputs": [],
     "prompt_number": 29
    },
    {
     "cell_type": "code",
     "collapsed": false,
     "input": [
      "layer1=model.add(Bidirectional(LSTM(50,return_sequences=True), input_shape=(1,100)))\n",
      "layer2=model.add(TimeDistributed(Dense(100,activation='sigmoid')))"
     ],
     "language": "python",
     "metadata": {},
     "outputs": [],
     "prompt_number": 99
    },
    {
     "cell_type": "code",
     "collapsed": false,
     "input": [
      "model.compile(loss='binary_crossentropy', optimizer='adam', metrics=['acc'])"
     ],
     "language": "python",
     "metadata": {},
     "outputs": [],
     "prompt_number": 100
    },
    {
     "cell_type": "code",
     "collapsed": false,
     "input": [
      "# train LSTM\n",
      "for epoch in range(1):\n",
      "    # fit model for one epoch on this sequence\n",
      "    model.fit(input_vectors, y, epochs=1, batch_size=1, verbose=2)"
     ],
     "language": "python",
     "metadata": {},
     "outputs": [
      {
       "output_type": "stream",
       "stream": "stderr",
       "text": [
        "WARNING:theano.tensor.blas:We did not find a dynamic library in the library_dir of the library we use for blas. If you use ATLAS, make sure to compile it with dynamics library.\n"
       ]
      },
      {
       "output_type": "stream",
       "stream": "stdout",
       "text": [
        "Epoch 1/1\n",
        " - 19s - loss: 0.6934 - acc: 0.0000e+00\n"
       ]
      }
     ],
     "prompt_number": 101
    },
    {
     "cell_type": "code",
     "collapsed": false,
     "input": [],
     "language": "python",
     "metadata": {},
     "outputs": []
    }
   ],
   "metadata": {}
  }
 ]
}